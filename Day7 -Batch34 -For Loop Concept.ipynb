{
 "cells": [
  {
   "cell_type": "code",
   "execution_count": 1,
   "metadata": {},
   "outputs": [],
   "source": [
    "#Day 7 Batch34 Introduction to for Loops"
   ]
  },
  {
   "cell_type": "code",
   "execution_count": 17,
   "metadata": {},
   "outputs": [],
   "source": [
    "students=[\"amardeep\",\"soniya\",'kumar',\"vishnu\",\"rashmika\",\"keerthi\"]"
   ]
  },
  {
   "cell_type": "code",
   "execution_count": 18,
   "metadata": {},
   "outputs": [
    {
     "name": "stdout",
     "output_type": "stream",
     "text": [
      "['amardeep', 'soniya', 'kumar', 'vishnu', 'rashmika', 'keerthi']\n"
     ]
    }
   ],
   "source": [
    "print(students)"
   ]
  },
  {
   "cell_type": "code",
   "execution_count": 19,
   "metadata": {},
   "outputs": [
    {
     "data": {
      "text/plain": [
       "list"
      ]
     },
     "execution_count": 19,
     "metadata": {},
     "output_type": "execute_result"
    }
   ],
   "source": [
    "type(students)"
   ]
  },
  {
   "cell_type": "code",
   "execution_count": 29,
   "metadata": {},
   "outputs": [
    {
     "name": "stdout",
     "output_type": "stream",
     "text": [
      "Keep up the good work,Amardeep\n",
      "Keep up the good work,Soniya\n",
      "Keep up the good work,Kumar\n",
      "Keep up the good work,Vishnu\n",
      "Keep up the good work,Rashmika\n",
      "Keep up the good work,Keerthi\n"
     ]
    }
   ],
   "source": [
    "for x in students:\n",
    "    print (f\"Keep up the good work,{x.title()}\")"
   ]
  },
  {
   "cell_type": "code",
   "execution_count": 30,
   "metadata": {},
   "outputs": [
    {
     "name": "stdout",
     "output_type": "stream",
     "text": [
      "Keep up the good work,Amardeep.\n",
      "\n",
      "Keep up the good work,Soniya.\n",
      "\n",
      "Keep up the good work,Kumar.\n",
      "\n",
      "Keep up the good work,Vishnu.\n",
      "\n",
      "Keep up the good work,Rashmika.\n",
      "\n",
      "Keep up the good work,Keerthi.\n",
      "\n"
     ]
    }
   ],
   "source": [
    "for x in students:\n",
    "    print (f\"Keep up the good work,{x.title()}.\\n\")"
   ]
  },
  {
   "cell_type": "code",
   "execution_count": null,
   "metadata": {},
   "outputs": [],
   "source": []
  }
 ],
 "metadata": {
  "kernelspec": {
   "display_name": "Python 3",
   "language": "python",
   "name": "python3"
  },
  "language_info": {
   "codemirror_mode": {
    "name": "ipython",
    "version": 3
   },
   "file_extension": ".py",
   "mimetype": "text/x-python",
   "name": "python",
   "nbconvert_exporter": "python",
   "pygments_lexer": "ipython3",
   "version": "3.8.5"
  }
 },
 "nbformat": 4,
 "nbformat_minor": 4
}
